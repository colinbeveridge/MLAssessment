{
 "cells": [
  {
   "cell_type": "markdown",
   "metadata": {},
   "source": [
    "Import Libraries and Raw Data"
   ]
  },
  {
   "cell_type": "code",
   "execution_count": 451,
   "metadata": {},
   "outputs": [
    {
     "name": "stdout",
     "output_type": "stream",
     "text": [
      "<class 'pandas.core.frame.DataFrame'>\n",
      "RangeIndex: 344 entries, 0 to 343\n",
      "Data columns (total 17 columns):\n",
      " #   Column               Non-Null Count  Dtype  \n",
      "---  ------               --------------  -----  \n",
      " 0   studyName            344 non-null    object \n",
      " 1   Sample Number        344 non-null    int64  \n",
      " 2   Species              344 non-null    object \n",
      " 3   Region               344 non-null    object \n",
      " 4   Island               344 non-null    object \n",
      " 5   Stage                344 non-null    object \n",
      " 6   Individual ID        344 non-null    object \n",
      " 7   Clutch Completion    344 non-null    object \n",
      " 8   Date Egg             344 non-null    object \n",
      " 9   Culmen Length (mm)   342 non-null    float64\n",
      " 10  Culmen Depth (mm)    342 non-null    float64\n",
      " 11  Flipper Length (mm)  342 non-null    float64\n",
      " 12  Body Mass (g)        342 non-null    float64\n",
      " 13  Sex                  334 non-null    object \n",
      " 14  Delta 15 N (o/oo)    330 non-null    float64\n",
      " 15  Delta 13 C (o/oo)    331 non-null    float64\n",
      " 16  Comments             26 non-null     object \n",
      "dtypes: float64(6), int64(1), object(10)\n",
      "memory usage: 32.3+ KB\n"
     ]
    }
   ],
   "source": [
    "import pandas as pd\n",
    "import sklearn.preprocessing as skpre\n",
    "import sklearn.model_selection as skmod\n",
    "import sklearn.linear_model as sklinmod\n",
    "import sklearn.svm as sksvm\n",
    "import sklearn.metrics as skmet\n",
    "import numpy as np\n",
    "penguins = pd.read_csv('penguins_lter.csv')\n",
    "\n",
    "penguins.info()\n",
    "\n"
   ]
  },
  {
   "cell_type": "markdown",
   "metadata": {},
   "source": [
    "Drop useless columns"
   ]
  },
  {
   "cell_type": "code",
   "execution_count": 452,
   "metadata": {},
   "outputs": [
    {
     "data": {
      "text/plain": [
       "(325, 8)"
      ]
     },
     "execution_count": 452,
     "metadata": {},
     "output_type": "execute_result"
    }
   ],
   "source": [
    "penguins.drop(['studyName','Comments','Region','Sample Number','Stage','Individual ID','Date Egg','Island','Clutch Completion'],axis=1,inplace=True)\n",
    "penguins.shape\n",
    "# get rid of weird dot thing\n",
    "penguins.Sex.replace('.',None,inplace=True)\n",
    "penguins.dropna(axis=0,inplace=True)\n",
    "penguins.shape\n"
   ]
  },
  {
   "cell_type": "markdown",
   "metadata": {},
   "source": [
    "Inspect"
   ]
  },
  {
   "cell_type": "code",
   "execution_count": 453,
   "metadata": {},
   "outputs": [
    {
     "name": "stdout",
     "output_type": "stream",
     "text": [
      "<class 'pandas.core.frame.DataFrame'>\n",
      "Int64Index: 325 entries, 1 to 343\n",
      "Data columns (total 8 columns):\n",
      " #   Column               Non-Null Count  Dtype  \n",
      "---  ------               --------------  -----  \n",
      " 0   Species              325 non-null    object \n",
      " 1   Culmen Length (mm)   325 non-null    float64\n",
      " 2   Culmen Depth (mm)    325 non-null    float64\n",
      " 3   Flipper Length (mm)  325 non-null    float64\n",
      " 4   Body Mass (g)        325 non-null    float64\n",
      " 5   Sex                  325 non-null    object \n",
      " 6   Delta 15 N (o/oo)    325 non-null    float64\n",
      " 7   Delta 13 C (o/oo)    325 non-null    float64\n",
      "dtypes: float64(6), object(2)\n",
      "memory usage: 20.3+ KB\n"
     ]
    }
   ],
   "source": [
    "penguins.info()"
   ]
  },
  {
   "cell_type": "markdown",
   "metadata": {},
   "source": [
    "Split Training Data for Predicting Species and then apply get dummies to Sex and Clutch Completion columns"
   ]
  },
  {
   "cell_type": "code",
   "execution_count": 454,
   "metadata": {},
   "outputs": [],
   "source": [
    "# training stuff for classifying species\n",
    "y = penguins.Species\n",
    "X = penguins.drop(['Species','Sex'],axis=1)\n",
    "X_train, X_test, y_train, y_test = skmod.train_test_split(X,y,test_size=.25,random_state=26)\n"
   ]
  },
  {
   "cell_type": "code",
   "execution_count": 455,
   "metadata": {},
   "outputs": [],
   "source": [
    "# map species names to numbers\n",
    "namemap = {}\n",
    "specnamelist = penguins.Species.unique()\n",
    "for i in range(len(specnamelist)):\n",
    "    namemap[specnamelist[i]] = i+1\n",
    "\n",
    "y_train = y_train.replace(namemap)\n",
    "y_test = y_test.replace(namemap)"
   ]
  },
  {
   "cell_type": "markdown",
   "metadata": {},
   "source": [
    "Normalize Data"
   ]
  },
  {
   "cell_type": "code",
   "execution_count": 456,
   "metadata": {},
   "outputs": [
    {
     "name": "stdout",
     "output_type": "stream",
     "text": [
      "<class 'pandas.core.frame.DataFrame'>\n",
      "Int64Index: 243 entries, 294 to 327\n",
      "Data columns (total 6 columns):\n",
      " #   Column               Non-Null Count  Dtype  \n",
      "---  ------               --------------  -----  \n",
      " 0   Culmen Length (mm)   243 non-null    float64\n",
      " 1   Culmen Depth (mm)    243 non-null    float64\n",
      " 2   Flipper Length (mm)  243 non-null    float64\n",
      " 3   Body Mass (g)        243 non-null    float64\n",
      " 4   Delta 15 N (o/oo)    243 non-null    float64\n",
      " 5   Delta 13 C (o/oo)    243 non-null    float64\n",
      "dtypes: float64(6)\n",
      "memory usage: 13.3 KB\n"
     ]
    }
   ],
   "source": [
    "# make dummy variables\n",
    "X_train.info()\n",
    "X_train = skpre.scale(X_train)\n",
    "X_test = skpre.scale(X_test)\n"
   ]
  },
  {
   "cell_type": "markdown",
   "metadata": {},
   "source": [
    "Now Run Models to Classify Species"
   ]
  },
  {
   "cell_type": "code",
   "execution_count": 457,
   "metadata": {},
   "outputs": [
    {
     "name": "stdout",
     "output_type": "stream",
     "text": [
      "[[36  0  0]\n",
      " [ 0 15  0]\n",
      " [ 0  0 31]]\n",
      "1.0\n"
     ]
    }
   ],
   "source": [
    "# SVM RBF Kernel\n",
    "mod = sksvm.SVC(kernel='rbf')\n",
    "mod.fit(X_train,y_train)\n",
    "#mod.score(X_test,y_test)\n",
    "\n",
    "\n",
    "y_pred = mod.predict(X_test)\n",
    "\n",
    "confmat = skmet.confusion_matrix(y_test,y_pred)\n",
    "print(confmat)\n",
    "\n",
    "print(mod.score(X_test,y_test))"
   ]
  },
  {
   "cell_type": "code",
   "execution_count": 458,
   "metadata": {},
   "outputs": [
    {
     "name": "stdout",
     "output_type": "stream",
     "text": [
      "Coefficients: [[-2.04784817  0.99005532  0.10736572  0.87639111  0.00205637 -1.03148563]\n",
      " [-0.41167741  0.7685999  -0.73592739 -0.32395651  0.22783804  0.20308487]\n",
      " [ 0.02635775  0.41813731 -0.35521445 -0.35310684  0.49616718  0.23078584]]\n",
      "[[36  0  0]\n",
      " [ 0 15  0]\n",
      " [ 0  0 31]]\n",
      "1.0\n"
     ]
    }
   ],
   "source": [
    "# SVM Linear Kernel\n",
    "mod = sksvm.SVC(kernel='linear')\n",
    "mod.fit(X_train,y_train)\n",
    "#mod.score(X_test,y_test)\n",
    "\n",
    "print(f'Coefficients: {mod.coef_}')\n",
    "y_pred = mod.predict(X_test)\n",
    "\n",
    "confmat = skmet.confusion_matrix(y_test,y_pred)\n",
    "print(confmat)\n",
    "\n",
    "print(mod.score(X_test,y_test))"
   ]
  },
  {
   "cell_type": "code",
   "execution_count": 459,
   "metadata": {},
   "outputs": [
    {
     "name": "stdout",
     "output_type": "stream",
     "text": [
      "Coefficients: [[-1.45798653  1.01205066 -0.59156123  0.01606663  0.14726828 -0.69549435]\n",
      " [ 1.15419701 -0.07339343 -0.2040954  -0.68360339  0.43835846  1.08657678]\n",
      " [ 0.30378952 -0.93865723  0.79565663  0.66753676 -0.58562674 -0.39108243]]\n",
      "[[36  0  0]\n",
      " [ 0 15  0]\n",
      " [ 0  0 31]]\n",
      "1.0\n"
     ]
    }
   ],
   "source": [
    "# Logistic Regression Classifier\n",
    "mod = sklinmod.LogisticRegressionCV()\n",
    "mod.fit(X_train,y_train)\n",
    "#mod.score(X_test,y_test)\n",
    "\n",
    "print(f'Coefficients: {mod.coef_}')\n",
    "y_pred = mod.predict(X_test)\n",
    "\n",
    "confmat = skmet.confusion_matrix(y_test,y_pred)\n",
    "print(confmat)\n",
    "\n",
    "print(mod.score(X_test,y_test))"
   ]
  },
  {
   "cell_type": "markdown",
   "metadata": {},
   "source": [
    "Now repeat earlier code to classify sex rather than species"
   ]
  }
 ],
 "metadata": {
  "interpreter": {
   "hash": "23307798908c8a9e946608b3e939b3bcebc8e8621f7a89d72990d9b805e549ed"
  },
  "kernelspec": {
   "display_name": "Python 3.7.4 32-bit",
   "language": "python",
   "name": "python3"
  },
  "language_info": {
   "codemirror_mode": {
    "name": "ipython",
    "version": 3
   },
   "file_extension": ".py",
   "mimetype": "text/x-python",
   "name": "python",
   "nbconvert_exporter": "python",
   "pygments_lexer": "ipython3",
   "version": "3.7.4"
  },
  "orig_nbformat": 4
 },
 "nbformat": 4,
 "nbformat_minor": 2
}
