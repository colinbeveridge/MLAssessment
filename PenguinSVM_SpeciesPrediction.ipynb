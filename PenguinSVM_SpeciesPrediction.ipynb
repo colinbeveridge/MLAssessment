{
 "cells": [
  {
   "cell_type": "markdown",
   "metadata": {},
   "source": [
    "Import Libraries and Raw Data"
   ]
  },
  {
   "cell_type": "code",
   "execution_count": 193,
   "metadata": {},
   "outputs": [
    {
     "name": "stdout",
     "output_type": "stream",
     "text": [
      "<class 'pandas.core.frame.DataFrame'>\n",
      "RangeIndex: 344 entries, 0 to 343\n",
      "Data columns (total 17 columns):\n",
      " #   Column               Non-Null Count  Dtype  \n",
      "---  ------               --------------  -----  \n",
      " 0   studyName            344 non-null    object \n",
      " 1   Sample Number        344 non-null    int64  \n",
      " 2   Species              344 non-null    object \n",
      " 3   Region               344 non-null    object \n",
      " 4   Island               344 non-null    object \n",
      " 5   Stage                344 non-null    object \n",
      " 6   Individual ID        344 non-null    object \n",
      " 7   Clutch Completion    344 non-null    object \n",
      " 8   Date Egg             344 non-null    object \n",
      " 9   Culmen Length (mm)   342 non-null    float64\n",
      " 10  Culmen Depth (mm)    342 non-null    float64\n",
      " 11  Flipper Length (mm)  342 non-null    float64\n",
      " 12  Body Mass (g)        342 non-null    float64\n",
      " 13  Sex                  334 non-null    object \n",
      " 14  Delta 15 N (o/oo)    330 non-null    float64\n",
      " 15  Delta 13 C (o/oo)    331 non-null    float64\n",
      " 16  Comments             26 non-null     object \n",
      "dtypes: float64(6), int64(1), object(10)\n",
      "memory usage: 32.3+ KB\n"
     ]
    }
   ],
   "source": [
    "import pandas as pd\n",
    "import sklearn.preprocessing as skpre\n",
    "import sklearn.model_selection as skmod\n",
    "import sklearn.linear_model as sklinmod\n",
    "import sklearn.svm as sksvm\n",
    "import sklearn.metrics as skmet\n",
    "import sklearn.cluster as skclus\n",
    "import seaborn as sns\n",
    "import numpy as np\n",
    "penguins = pd.read_csv('penguins_lter.csv')\n",
    "\n",
    "penguins.info()\n",
    "\n"
   ]
  },
  {
   "cell_type": "markdown",
   "metadata": {},
   "source": [
    "Drop useless columns"
   ]
  },
  {
   "cell_type": "code",
   "execution_count": 194,
   "metadata": {},
   "outputs": [
    {
     "data": {
      "text/plain": [
       "(325, 7)"
      ]
     },
     "execution_count": 194,
     "metadata": {},
     "output_type": "execute_result"
    }
   ],
   "source": [
    "penguins.drop(['studyName','Comments','Region','Sample Number','Stage','Individual ID','Date Egg','Island','Clutch Completion'],axis=1,inplace=True)\n",
    "penguins.shape\n",
    "# get rid of weird dot thing\n",
    "penguins.Sex.replace('.',None,inplace=True)\n",
    "penguins.dropna(axis=0,inplace=True)\n",
    "penguins.shape\n"
   ]
  },
  {
   "cell_type": "markdown",
   "metadata": {},
   "source": [
    "Inspect"
   ]
  },
  {
   "cell_type": "code",
   "execution_count": 195,
   "metadata": {},
   "outputs": [
    {
     "name": "stdout",
     "output_type": "stream",
     "text": [
      "<class 'pandas.core.frame.DataFrame'>\n",
      "Int64Index: 325 entries, 1 to 343\n",
      "Data columns (total 7 columns):\n",
      " #   Column               Non-Null Count  Dtype  \n",
      "---  ------               --------------  -----  \n",
      " 0   Species              325 non-null    object \n",
      " 1   Culmen Depth (mm)    325 non-null    float64\n",
      " 2   Flipper Length (mm)  325 non-null    float64\n",
      " 3   Body Mass (g)        325 non-null    float64\n",
      " 4   Sex                  325 non-null    object \n",
      " 5   Delta 15 N (o/oo)    325 non-null    float64\n",
      " 6   Delta 13 C (o/oo)    325 non-null    float64\n",
      "dtypes: float64(5), object(2)\n",
      "memory usage: 17.8+ KB\n"
     ]
    }
   ],
   "source": [
    "penguins.info()"
   ]
  },
  {
   "cell_type": "markdown",
   "metadata": {},
   "source": [
    "Split Training Data for Predicting Species and then apply get dummies to Sex and Clutch Completion columns"
   ]
  },
  {
   "cell_type": "code",
   "execution_count": 196,
   "metadata": {},
   "outputs": [],
   "source": [
    "# training stuff for classifying species\n",
    "y = penguins.Species\n",
    "X = penguins.drop(['Species','Sex'],axis=1)\n",
    "X_train, X_test, y_train, y_test = skmod.train_test_split(X,y,test_size=.25,random_state=26)\n",
    "\n",
    "cul_length = X_test['Culmen Length (mm)']\n",
    "flip_length = X_test['Flipper Length (mm)']\n",
    "cul_depth = X_test['Culmen Depth (mm)']"
   ]
  },
  {
   "cell_type": "code",
   "execution_count": 197,
   "metadata": {},
   "outputs": [],
   "source": [
    "# map species names to numbers\n",
    "namemap = {}\n",
    "specnamelist = penguins.Species.unique()\n",
    "for i in range(len(specnamelist)):\n",
    "    namemap[specnamelist[i]] = i+1\n",
    "namemap['Chinstrap penguin (Pygoscelis antarctica)'] = 3\n",
    "namemap['Gentoo penguin (Pygoscelis papua)'] = 2\n",
    "\n",
    "namemap\n",
    "y_train = y_train.replace(namemap)\n",
    "y_test = y_test.replace(namemap)"
   ]
  },
  {
   "cell_type": "markdown",
   "metadata": {},
   "source": [
    "Normalize Data"
   ]
  },
  {
   "cell_type": "code",
   "execution_count": 198,
   "metadata": {},
   "outputs": [
    {
     "name": "stdout",
     "output_type": "stream",
     "text": [
      "<class 'pandas.core.frame.DataFrame'>\n",
      "Int64Index: 243 entries, 294 to 327\n",
      "Data columns (total 5 columns):\n",
      " #   Column               Non-Null Count  Dtype  \n",
      "---  ------               --------------  -----  \n",
      " 0   Culmen Depth (mm)    243 non-null    float64\n",
      " 1   Flipper Length (mm)  243 non-null    float64\n",
      " 2   Body Mass (g)        243 non-null    float64\n",
      " 3   Delta 15 N (o/oo)    243 non-null    float64\n",
      " 4   Delta 13 C (o/oo)    243 non-null    float64\n",
      "dtypes: float64(5)\n",
      "memory usage: 11.4 KB\n"
     ]
    }
   ],
   "source": [
    "# make dummy variables\n",
    "X_train.info()\n",
    "X_train = skpre.scale(X_train)\n",
    "X_test = skpre.scale(X_test)\n"
   ]
  },
  {
   "cell_type": "markdown",
   "metadata": {},
   "source": [
    "Now Run Models to Classify Species"
   ]
  },
  {
   "cell_type": "code",
   "execution_count": 199,
   "metadata": {},
   "outputs": [
    {
     "name": "stdout",
     "output_type": "stream",
     "text": [
      "[[34  0  2]\n",
      " [ 0 31  0]\n",
      " [ 0  0 15]]\n",
      "0.975609756097561\n"
     ]
    }
   ],
   "source": [
    "# SVM RBF Kernel\n",
    "mod = sksvm.SVC(kernel='rbf')\n",
    "mod.fit(X_train,y_train)\n",
    "#mod.score(X_test,y_test)\n",
    "\n",
    "\n",
    "y_pred = mod.predict(X_test)\n",
    "\n",
    "confmat = skmet.confusion_matrix(y_test,y_pred)\n",
    "print(confmat)\n",
    "\n",
    "print(mod.score(X_test,y_test))"
   ]
  },
  {
   "cell_type": "code",
   "execution_count": 200,
   "metadata": {},
   "outputs": [
    {
     "name": "stdout",
     "output_type": "stream",
     "text": [
      "Coefficients: [[ 0.93510355 -0.73431944 -0.67313506  0.18793878  0.05032072]\n",
      " [ 0.71705268 -0.96435328  0.18301049  0.13283096 -2.36652822]\n",
      " [-0.42077634  0.32656469  0.37059034 -0.50248124 -0.23842619]]\n",
      "[[35  0  1]\n",
      " [ 0 31  0]\n",
      " [ 0  0 15]]\n",
      "0.9878048780487805\n"
     ]
    }
   ],
   "source": [
    "# SVM Linear Kernel\n",
    "mod = sksvm.SVC(kernel='linear')\n",
    "mod.fit(X_train,y_train)\n",
    "#mod.score(X_test,y_test)\n",
    "\n",
    "print(f'Coefficients: {mod.coef_}')\n",
    "y_pred = mod.predict(X_test)\n",
    "\n",
    "confmat = skmet.confusion_matrix(y_test,y_pred)\n",
    "print(confmat)\n",
    "\n",
    "print(mod.score(X_test,y_test))"
   ]
  },
  {
   "cell_type": "code",
   "execution_count": 201,
   "metadata": {},
   "outputs": [
    {
     "name": "stderr",
     "output_type": "stream",
     "text": [
      "C:\\Users\\cbevr\\AppData\\Local\\Programs\\Python\\Python37-32\\lib\\site-packages\\sklearn\\linear_model\\_logistic.py:765: ConvergenceWarning: lbfgs failed to converge (status=1):\n",
      "STOP: TOTAL NO. of ITERATIONS REACHED LIMIT.\n",
      "\n",
      "Increase the number of iterations (max_iter) or scale the data as shown in:\n",
      "    https://scikit-learn.org/stable/modules/preprocessing.html\n",
      "Please also refer to the documentation for alternative solver options:\n",
      "    https://scikit-learn.org/stable/modules/linear_model.html#logistic-regression\n",
      "  extra_warning_msg=_LOGISTIC_SOLVER_CONVERGENCE_MSG)\n"
     ]
    },
    {
     "name": "stdout",
     "output_type": "stream",
     "text": [
      "Coefficients: [[ 0.90728503 -1.24173871 -0.3055364   0.2044669  -1.21780391]\n",
      " [-1.003575    0.8698868   0.81126098 -0.58711898 -0.4077667 ]\n",
      " [ 0.09628997  0.3718519  -0.50572459  0.38265208  1.62557061]]\n",
      "[[35  0  1]\n",
      " [ 0 31  0]\n",
      " [ 0  0 15]]\n",
      "0.9878048780487805\n"
     ]
    }
   ],
   "source": [
    "# Logistic Regression Classifier\n",
    "mod = sklinmod.LogisticRegressionCV()\n",
    "mod.fit(X_train,y_train)\n",
    "#mod.score(X_test,y_test)\n",
    "\n",
    "print(f'Coefficients: {mod.coef_}')\n",
    "y_pred = mod.predict(X_test)\n",
    "\n",
    "confmat = skmet.confusion_matrix(y_test,y_pred)\n",
    "print(confmat)\n",
    "\n",
    "print(mod.score(X_test,y_test))"
   ]
  },
  {
   "cell_type": "markdown",
   "metadata": {},
   "source": [
    "Compare to K-Means"
   ]
  },
  {
   "cell_type": "code",
   "execution_count": 202,
   "metadata": {},
   "outputs": [
    {
     "name": "stdout",
     "output_type": "stream",
     "text": [
      "[ 0  0 -2  0  0  0  0  0  0  0  0  0  0  0  0  0  0  0  0  0  0  0  0 -2\n",
      "  0  0  0  0  0  0  0  0  0 -2  0  0  0  0  0  0  0  0  0  0  0  0  0  0\n",
      "  0  0  0  0  0  0  0  0  0  0  0  0  0  0  0  0  0  0 -2  0  0  0  0  0\n",
      "  0  0  0  0  0  0  0  0  0  0]\n"
     ]
    }
   ],
   "source": [
    "k3 = skclus.KMeans(n_clusters=3,random_state=0).fit_predict(X_test)\n",
    "\n",
    "print(y_pred - (k3+1))\n",
    "\n"
   ]
  },
  {
   "cell_type": "markdown",
   "metadata": {},
   "source": [
    "Plot Scatter Groupings"
   ]
  },
  {
   "cell_type": "code",
   "execution_count": 203,
   "metadata": {},
   "outputs": [
    {
     "data": {
      "image/png": "[encoded data removed]",
      "text/plain": [
       "<Figure size 432x288 with 1 Axes>"
      ]
     },
     "metadata": {
      "needs_background": "light"
     },
     "output_type": "display_data"
    }
   ],
   "source": [
    "# choose two columns to plot for scatterplot\n",
    "\n",
    "\n",
    "# attempt plotting\n",
    "scatter = sns.scatterplot(x=cul_length, y=cul_depth,hue=k3,palette='deep')"
   ]
  }
 ],
 "metadata": {
  "interpreter": {
   "hash": "23307798908c8a9e946608b3e939b3bcebc8e8621f7a89d72990d9b805e549ed"
  },
  "kernelspec": {
   "display_name": "Python 3.7.4 32-bit",
   "language": "python",
   "name": "python3"
  },
  "language_info": {
   "codemirror_mode": {
    "name": "ipython",
    "version": 3
   },
   "file_extension": ".py",
   "mimetype": "text/x-python",
   "name": "python",
   "nbconvert_exporter": "python",
   "pygments_lexer": "ipython3",
   "version": "3.7.4"
  },
  "orig_nbformat": 4
 },
 "nbformat": 4,
 "nbformat_minor": 2
}
